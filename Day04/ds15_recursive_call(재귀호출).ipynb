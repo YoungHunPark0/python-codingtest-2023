{
 "cells": [
  {
   "attachments": {},
   "cell_type": "markdown",
   "metadata": {},
   "source": [
    "## 재귀호출(Recursive Call) \n",
    "자신을 다시 호출 하는 것"
   ]
  },
  {
   "cell_type": "code",
   "execution_count": 10,
   "metadata": {},
   "outputs": [
    {
     "name": "stdout",
     "output_type": "stream",
     "text": [
      "n = 7\n",
      "7\n"
     ]
    }
   ],
   "source": [
    "def printAll(n):\n",
    "    print(f'n = {n}')\n",
    "    return n\n",
    "\n",
    "def plus(x, y):\n",
    "    answer = x + y\n",
    "    result = printAll(answer)\n",
    "    return result\n",
    "\n",
    "val = plus(3, 4)\n",
    "print(val)"
   ]
  },
  {
   "cell_type": "code",
   "execution_count": 1,
   "metadata": {},
   "outputs": [],
   "source": [
    "def openBox():\n",
    "    print('종이상자를 엽니다. ^^')\n",
    "    openBox() # 자기자신을 다시 호출"
   ]
  },
  {
   "cell_type": "code",
   "execution_count": null,
   "metadata": {},
   "outputs": [],
   "source": [
    "openBox()"
   ]
  },
  {
   "cell_type": "code",
   "execution_count": null,
   "metadata": {},
   "outputs": [],
   "source": [
    "count = 3\n",
    "\n",
    "def openBox():\n",
    "    global count\n",
    "    print('종이상자를 엽니다. ^^')\n",
    "    count -= 1\n",
    "    if count == 0:\n",
    "        print('반지를 넣고 반환합니다*****')\n",
    "        return\n",
    "\n",
    "    openBox() # 자기자신을 다시 호출\n",
    "    print('종이 상자를 닫습니다')"
   ]
  },
  {
   "cell_type": "code",
   "execution_count": null,
   "metadata": {},
   "outputs": [
    {
     "name": "stdout",
     "output_type": "stream",
     "text": [
      "종이상자를 엽니다. ^^\n",
      "종이상자를 엽니다. ^^\n",
      "종이상자를 엽니다. ^^\n",
      "반지를 넣고 반환합니다*****\n",
      "종이 상자를 닫습니다\n",
      "종이 상자를 닫습니다\n"
     ]
    }
   ],
   "source": [
    "openBox()"
   ]
  },
  {
   "attachments": {},
   "cell_type": "markdown",
   "metadata": {},
   "source": [
    "## 재귀호출 하지않고 반복문으로 계산"
   ]
  },
  {
   "cell_type": "code",
   "execution_count": null,
   "metadata": {},
   "outputs": [
    {
     "name": "stdout",
     "output_type": "stream",
     "text": [
      "10+9+8+...+1 =  55\n"
     ]
    }
   ],
   "source": [
    "sumValue = 0\n",
    "\n",
    "for n in range(10, 0 , -1):\n",
    "    sumValue += n\n",
    "\n",
    "print('10+9+8+...+1 = ', sumValue)"
   ]
  },
  {
   "attachments": {},
   "cell_type": "markdown",
   "metadata": {},
   "source": [
    "### 재귀호출로 덧셈"
   ]
  },
  {
   "cell_type": "code",
   "execution_count": null,
   "metadata": {},
   "outputs": [
    {
     "name": "stdout",
     "output_type": "stream",
     "text": [
      "5050\n"
     ]
    }
   ],
   "source": [
    "def addNumber(num):\n",
    "    if num <= 1:\n",
    "        return 1\n",
    "    else:\n",
    "        return num + addNumber(num - 1)\n",
    "\n",
    "print(addNumber(100))"
   ]
  },
  {
   "attachments": {},
   "cell_type": "markdown",
   "metadata": {},
   "source": [
    "### 팩토리얼 반복문"
   ]
  },
  {
   "cell_type": "code",
   "execution_count": null,
   "metadata": {},
   "outputs": [
    {
     "name": "stdout",
     "output_type": "stream",
     "text": [
      "10*9*8..*2*1 3628800\n"
     ]
    }
   ],
   "source": [
    "factValue = 1\n",
    "for n in range(10, 0, -1):\n",
    "    factValue *= n\n",
    "\n",
    "print('10*9*8..*2*1', factValue)"
   ]
  },
  {
   "attachments": {},
   "cell_type": "markdown",
   "metadata": {},
   "source": [
    "### 팩토리얼 재귀호출"
   ]
  },
  {
   "cell_type": "code",
   "execution_count": null,
   "metadata": {},
   "outputs": [
    {
     "name": "stdout",
     "output_type": "stream",
     "text": [
      "10! =  63507890863456767124026223135865363993920361927048401849732641593094118304334664838518489279761202858110442656198961423888337785958374054395875090008179394602121729048755527506222388620438398012556615061940909904115015164483186340282667999681601237310950712039020066375755766076440811303940538840103890741951917564190561275396873204122937083746098640414588850116107225675520412584415359155103495655208534054658149146203739758027326003354866456731097561086620889903717246818807490131678158299401901235057514328881677204150054888001843870188616756694468379677033228639349974219800691760236674808772459147849761319772233349285258185354881462706759016416844508026593468378544952254302304068325633905800617846092173316334920423976973219453332902616477256306327233355305287468380745909208415980513577159243876582648875144838454034618802839634184994308400967856236366107563273185702779295861081100580569890291839403080692152562549750464518941296615589072961901445867101610266912853288908304184351248084449986727837714164724886934713403840928394071581648559037175552279054765268191336562999918827853842984694855922999162907679561931097787771324637893456823082524179018246504955405803121771121360752264414781039718455098118457351815525441962553663917394824907930942411732997508709279776658345871568600666174624864566227235992187598660130953640936345350873339744682415089563501119516442999676532779307108492176925439731860347372511112433604790992759325197681339726349322054878255119874625965850196940660648685990671210212572225564228346159053754713667934756177880507837712524591347066833930606771513277248914447108453842428044821209156242191481316239948456314071437111282270756494813443336707372525017024678559199590515860360962136467183581351799081925904581530470013515629221769984825958416224944982867113744499809912183809641523923237883957287541972186804232110652653006828947123647231393100716154785438044926596489481061404444949958850342025214038700582411675847296195285368313134928856220726124462351334098415059073275239953735718425086123827271757497468773885713767925771130546617686545287963633612898691413349119011210341661317374809835898724194978360650558823413986166888783608735534361048197825992486540004672367499044204531085976637277941222039312514997381320707709813267213844400528265917241905520030567187527121305903232698469502319828288497642071789544559470672876896682816986176852553613912123976135208540633191577134212923764719883260091745561140753211368159375154389149276613870478944559132118639123292629448861220166692668795869998815536697843168702435154762819119055700781916899847331952260368608062686678197902264191722301178373738543720223581116366378070649868986724225640819288848872888236573440404740650405057575066492961346462735749115329710082527101393654163731209311139319445720303577449977552535888706315264756010489543514382828926003274237925093166062460951592960000000000000000000000000000000000000000000000000000000000000000000000000000000000000000000000000000000000000000000000000000000000000000000000000000000000000000000000000000000000000000000000000000000000000000000000000000000000000000000000000000000000000000000000000000000000000000000000000000000000\n"
     ]
    }
   ],
   "source": [
    "def factorial(num):\n",
    "    if num <= 1:\n",
    "        return 1\n",
    "    else:    \n",
    "        return num * factorial(num - 1)\n",
    "\n",
    "print('10! = ', factorial(1200))    "
   ]
  },
  {
   "attachments": {},
   "cell_type": "markdown",
   "metadata": {},
   "source": [
    "### 우주선 발사"
   ]
  },
  {
   "cell_type": "code",
   "execution_count": null,
   "metadata": {},
   "outputs": [
    {
     "name": "stdout",
     "output_type": "stream",
     "text": [
      "10\n",
      "9\n",
      "8\n",
      "7\n",
      "6\n",
      "5\n",
      "4\n",
      "3\n",
      "2\n",
      "1\n",
      "우주선 발사!!\n"
     ]
    }
   ],
   "source": [
    "import time\n",
    "def countdown(n):\n",
    "    if n == 0:\n",
    "        print('우주선 발사!!')\n",
    "    else:\n",
    "        print(n)\n",
    "        time.sleep(1)\n",
    "        countdown(n - 1)\n",
    "\n",
    "countdown(10)"
   ]
  },
  {
   "cell_type": "code",
   "execution_count": null,
   "metadata": {},
   "outputs": [
    {
     "name": "stdout",
     "output_type": "stream",
     "text": [
      "★\n",
      "★★\n",
      "★★★\n",
      "★★★★\n",
      "★★★★★\n"
     ]
    }
   ],
   "source": [
    "def printStar(n):\n",
    "    if n > 0:\n",
    "        printStar(n-1)\n",
    "        print('★' * n)\n",
    "\n",
    "printStar(5)"
   ]
  },
  {
   "attachments": {},
   "cell_type": "markdown",
   "metadata": {},
   "source": [
    "### 구구단 재귀호출"
   ]
  },
  {
   "cell_type": "code",
   "execution_count": 4,
   "metadata": {},
   "outputs": [
    {
     "name": "stdout",
     "output_type": "stream",
     "text": [
      "2단 시작 ------\n",
      "2 x 1 =  2\n",
      "2 x 2 =  4\n",
      "2 x 3 =  6\n",
      "2 x 4 =  8\n",
      "2 x 5 = 10\n",
      "2 x 6 = 12\n",
      "2 x 7 = 14\n",
      "2 x 8 = 16\n",
      "2 x 9 = 18\n",
      "3단 시작 ------\n",
      "3 x 1 =  3\n",
      "3 x 2 =  6\n",
      "3 x 3 =  9\n",
      "3 x 4 = 12\n",
      "3 x 5 = 15\n",
      "3 x 6 = 18\n",
      "3 x 7 = 21\n",
      "3 x 8 = 24\n",
      "3 x 9 = 27\n",
      "4단 시작 ------\n",
      "4 x 1 =  4\n",
      "4 x 2 =  8\n",
      "4 x 3 = 12\n",
      "4 x 4 = 16\n",
      "4 x 5 = 20\n",
      "4 x 6 = 24\n",
      "4 x 7 = 28\n",
      "4 x 8 = 32\n",
      "4 x 9 = 36\n",
      "5단 시작 ------\n",
      "5 x 1 =  5\n",
      "5 x 2 = 10\n",
      "5 x 3 = 15\n",
      "5 x 4 = 20\n",
      "5 x 5 = 25\n",
      "5 x 6 = 30\n",
      "5 x 7 = 35\n",
      "5 x 8 = 40\n",
      "5 x 9 = 45\n",
      "6단 시작 ------\n",
      "6 x 1 =  6\n",
      "6 x 2 = 12\n",
      "6 x 3 = 18\n",
      "6 x 4 = 24\n",
      "6 x 5 = 30\n",
      "6 x 6 = 36\n",
      "6 x 7 = 42\n",
      "6 x 8 = 48\n",
      "6 x 9 = 54\n",
      "7단 시작 ------\n",
      "7 x 1 =  7\n",
      "7 x 2 = 14\n",
      "7 x 3 = 21\n",
      "7 x 4 = 28\n",
      "7 x 5 = 35\n",
      "7 x 6 = 42\n",
      "7 x 7 = 49\n",
      "7 x 8 = 56\n",
      "7 x 9 = 63\n",
      "8단 시작 ------\n",
      "8 x 1 =  8\n",
      "8 x 2 = 16\n",
      "8 x 3 = 24\n",
      "8 x 4 = 32\n",
      "8 x 5 = 40\n",
      "8 x 6 = 48\n",
      "8 x 7 = 56\n",
      "8 x 8 = 64\n",
      "8 x 9 = 72\n",
      "9단 시작 ------\n",
      "9 x 1 =  9\n",
      "9 x 2 = 18\n",
      "9 x 3 = 27\n",
      "9 x 4 = 36\n",
      "9 x 5 = 45\n",
      "9 x 6 = 54\n",
      "9 x 7 = 63\n",
      "9 x 8 = 72\n",
      "9 x 9 = 81\n"
     ]
    }
   ],
   "source": [
    "def gugudan(dan, num):\n",
    "    print(f'{dan} x {num} = {dan*num:2d}')\n",
    "    if num < 9:\n",
    "        gugudan(dan, num+1)\n",
    "\n",
    "for dan in range(2, 10):\n",
    "    print(f'{dan}단 시작 ------')\n",
    "    gugudan(dan, 1)"
   ]
  },
  {
   "attachments": {},
   "cell_type": "markdown",
   "metadata": {},
   "source": [
    "### N제곱"
   ]
  },
  {
   "cell_type": "code",
   "execution_count": 5,
   "metadata": {},
   "outputs": [
    {
     "name": "stdout",
     "output_type": "stream",
     "text": [
      "2^10\n",
      "  2x2^10-1\n",
      "   2x2^9-1\n",
      "    2x2^8-1\n",
      "     2x2^7-1\n",
      "      2x2^6-1\n",
      "       2x2^5-1\n",
      "        2x2^4-1\n",
      "         2x2^3-1\n",
      "          2x2^2-1\n",
      "           2x2^1-1\n",
      "답 -->  1024\n"
     ]
    }
   ],
   "source": [
    "tab = ''\n",
    "def pow(x, n):\n",
    "    global tab\n",
    "    tab += ' '\n",
    "    if n == 0:\n",
    "        return 1\n",
    "    print(tab, f'{x}x{x}^{n}-{1}')\n",
    "    return x * pow(x, n-1)\n",
    "\n",
    "print('2^10')\n",
    "print('답 --> ', pow(2, 10))"
   ]
  },
  {
   "attachments": {},
   "cell_type": "markdown",
   "metadata": {},
   "source": [
    "### 피보나치 수열"
   ]
  },
  {
   "cell_type": "code",
   "execution_count": 12,
   "metadata": {},
   "outputs": [
    {
     "name": "stdout",
     "output_type": "stream",
     "text": [
      "피보나치 수 --> 0 1 1 2 3 5 8 13 21 34 55 89 144 233 377 610 987 1597 2584 4181 6765 10946 17711 28657 46368 75025 121393 196418 317811 514229 832040 "
     ]
    }
   ],
   "source": [
    "def fibonacci(n):\n",
    "    if n == 0: return 0\n",
    "    elif n == 1: return 1\n",
    "    else:\n",
    "        return fibonacci(n-1) + fibonacci(n-2)\n",
    "\n",
    "print('피보나치 수 --> 0 1', end=' ')\n",
    "for i in range(2, 31):\n",
    "    print(fibonacci(i), end=' ')"
   ]
  },
  {
   "attachments": {},
   "cell_type": "markdown",
   "metadata": {},
   "source": [
    "### 회문여부"
   ]
  },
  {
   "cell_type": "code",
   "execution_count": 14,
   "metadata": {},
   "outputs": [
    {
     "data": {
      "text/plain": [
       "'o'"
      ]
     },
     "execution_count": 14,
     "metadata": {},
     "output_type": "execute_result"
    }
   ],
   "source": [
    "a = 'Hello'\n",
    "\n",
    "a[-1] # 0->H 젤앞, -1 -> o 젤끝"
   ]
  },
  {
   "cell_type": "code",
   "execution_count": 15,
   "metadata": {},
   "outputs": [
    {
     "data": {
      "text/plain": [
       "'aya'"
      ]
     },
     "execution_count": 15,
     "metadata": {},
     "output_type": "execute_result"
    }
   ],
   "source": [
    "def palindrome(pStr): # 예: kayak\n",
    "    if len(pStr) <= 1: # 글자가 한글자 밖에 없다면\n",
    "        return True\n",
    "    \n",
    "    if pStr[0] != pStr[-1]: # k == k 참이면, 두번째 a == a\n",
    "        return False\n",
    "\n",
    "    return palindrome(pStr[1:len(pStr)-1])"
   ]
  },
  {
   "cell_type": "code",
   "execution_count": 18,
   "metadata": {},
   "outputs": [],
   "source": [
    "strAry = ['reaver', 'kayak', 'Borrow or rob', '주유소의 소유주',\n",
    "          '야 너 이번주 주번이 너야', '살금 살금 살']"
   ]
  },
  {
   "cell_type": "code",
   "execution_count": 19,
   "metadata": {},
   "outputs": [
    {
     "name": "stdout",
     "output_type": "stream",
     "text": [
      "reaver--> 회문아니오 ㅡㅡ;\n",
      "kayak--> 회문입니다!\n",
      "Borrow or rob--> 회문입니다!\n",
      "주유소의 소유주--> 회문입니다!\n",
      "야 너 이번주 주번이 너야--> 회문입니다!\n",
      "살금 살금 살--> 회문입니다!\n"
     ]
    }
   ],
   "source": [
    "for testStr in strAry:\n",
    "    print(testStr, end='--> ')\n",
    "    testStr = testStr.lower().replace(' ', '') \n",
    "    # lower 대문자없애고 소문자로 변환(영어만), replace 공백 없앰\n",
    "    if palindrome(testStr) == True:\n",
    "        print('회문입니다!')\n",
    "    else:\n",
    "        print('회문아니오 ㅡㅡ;')"
   ]
  }
 ],
 "metadata": {
  "kernelspec": {
   "display_name": "Python 3",
   "language": "python",
   "name": "python3"
  },
  "language_info": {
   "codemirror_mode": {
    "name": "ipython",
    "version": 3
   },
   "file_extension": ".py",
   "mimetype": "text/x-python",
   "name": "python",
   "nbconvert_exporter": "python",
   "pygments_lexer": "ipython3",
   "version": "3.11.1"
  },
  "orig_nbformat": 4,
  "vscode": {
   "interpreter": {
    "hash": "a3d8f53f1429d27b792a3789224562ddd32c1395c9a9cfbb17b3c19c3b9a493d"
   }
  }
 },
 "nbformat": 4,
 "nbformat_minor": 2
}
